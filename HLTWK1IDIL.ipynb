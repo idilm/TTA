{
 "metadata": {
  "language_info": {
   "codemirror_mode": {
    "name": "ipython",
    "version": 3
   },
   "file_extension": ".py",
   "mimetype": "text/x-python",
   "name": "python",
   "nbconvert_exporter": "python",
   "pygments_lexer": "ipython3",
   "version": "3.9.5"
  },
  "orig_nbformat": 4,
  "kernelspec": {
   "name": "python3",
   "display_name": "Python 3.9.5 64-bit ('3.9')"
  },
  "interpreter": {
   "hash": "7812ea015bdcee6f23a998adcdd2ef97c151c0c241b7b7070987d9313e41299d"
  }
 },
 "nbformat": 4,
 "nbformat_minor": 2,
 "cells": [
  {
   "source": [
    "print(\"Hello World\")"
   ],
   "cell_type": "code",
   "metadata": {},
   "execution_count": null,
   "outputs": []
  },
  {
   "source": [
    "import random\n",
    "myName = input(\"Hello! what is your name?\")\n",
    "number = random.randint(1,10)\n",
    "print(\"Well,\"+myName+ \"I am thinking of a number between 1 and 10.\")\n",
    "guess = int(input(\"Take a guess\"))\n",
    "\n",
    "if guess == number:\n",
    "    print(\"Good job,\"+myName+ \"!you guessed my number\")\n",
    "else:\n",
    "    print(\"Wrong, better luck next time\")"
   ],
   "cell_type": "code",
   "metadata": {},
   "execution_count": null,
   "outputs": []
  },
  {
   "source": [
    "number=int(input(\"What is your favourite number between 1 and 100\")\n",
    "\n",
    "if number == 9\n",
    "   print (\"6 was afraid of 7 because 7-8-9, but why did 7 eat 9?\")\n",
    "   print (\"Because you're supposed to eat 3 squared meals a day\")\n",
    "if number == 10\n",
    "   print (\"What do you call all numbers between 1 and 10?\")\n",
    "   print (\"Intense\")\n",
    "if number == 20\n",
    "   print (\"The numbers 19 and 20 got into a fight\")\n",
    "   print (\"20 won\")\n",
    "   "
   ],
   "cell_type": "code",
   "metadata": {},
   "execution_count": null,
   "outputs": []
  },
  {
   "cell_type": "code",
   "execution_count": null,
   "metadata": {},
   "outputs": [],
   "source": [
    "starter = input (\"Enter your favourite starter\")\n",
    "print (\"starter\")\n",
    "main = input (\"Enter your favourite main course\")\n",
    "print (\"main\")\n",
    "Dessert = input (\"Enter your favourite dessert\")\n",
    "print (\"dessert\")\n",
    "drink = input (\"Enter your favourite drink\")\n",
    "print (\"drink\")\n",
    "print (\"Your favourite meal is\", starter\" main+\" dessert+\" with a glass of\" )\n"
   ]
  },
  {
   "cell_type": "code",
   "execution_count": null,
   "metadata": {},
   "outputs": [],
   "source": [
    "value = 2000\n",
    "\n",
    "while value>1000:\n",
    "    print(value)\n",
    "    value=value*0.9\n",
    "    "
   ]
  },
  {
   "source": [
    "num1 = int(input(\"Enter first number: \"))\n",
    "num2 = int(input(\"Enter second number: \"))\n",
    "\n",
    "print(\"Enter which operation would you like to perform?\"))\n",
    "ch = input(\"Enter any of these char for specific operation +,-,*,/:\")\n",
    "\n",
    "result = 105\n",
    "if ch == '+'\n",
    "result = num1 + num2\n",
    "elif ch == '-':\n",
    "    result = num1 - num2\n",
    "elif ch == '*'\n",
    "     result = num1 * num2\n",
    "elif ch == '/':\n",
    "    result = num1 / num2\n",
    "else:\n",
    "    print(\"Input character is not recognised!\")\n",
    "\n",
    "print(num1, ch, num2, \"+\", result)\n",
    "\n",
    "\n",
    "\n"
   ],
   "cell_type": "code",
   "metadata": {},
   "execution_count": null,
   "outputs": []
  }
 ]
}