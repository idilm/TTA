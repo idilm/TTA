{
 "metadata": {
  "language_info": {
   "codemirror_mode": {
    "name": "ipython",
    "version": 3
   },
   "file_extension": ".py",
   "mimetype": "text/x-python",
   "name": "python",
   "nbconvert_exporter": "python",
   "pygments_lexer": "ipython3",
   "version": "3.9.6"
  },
  "orig_nbformat": 4,
  "kernelspec": {
   "name": "python3",
   "display_name": "Python 3.9.6 64-bit"
  },
  "interpreter": {
   "hash": "aee8b7b246df8f9039afb4144a1f6fd8d2ca17a180786b69acc140d282b71a49"
  }
 },
 "nbformat": 4,
 "nbformat_minor": 2,
 "cells": [
  {
   "cell_type": "code",
   "execution_count": null,
   "source": [
    "txtfile = open(\"numbers.txt\")\n",
    "L = [3, 45, 83, 21]\n",
    "for line in txtfile:\n",
    "    L.append(line.rstrip())\n",
    "txtfile.close()\n",
    "print(L)"
   ],
   "outputs": [],
   "metadata": {}
  },
  {
   "cell_type": "code",
   "execution_count": 4,
   "source": [
    "mark_grade = float(input(\"Enter your percentage:\"))\n",
    "if 90 <= mark_grade <= 100:\n",
    "    output = \"A\"\n",
    "elif 80 <= mark_grade <= 89:\n",
    "    output = \"B\"\n",
    "elif 70 <= mark_grade <= 79:\n",
    "    output = \"C\"\n",
    "elif 60 <= mark_grade <= 69:\n",
    "    output = \"D\"\n",
    "elif mark_grade <= 59:\n",
    "    output = \"F\"\n",
    "else: \n",
    "    print (\"Your percentage grade is\") "
   ],
   "outputs": [],
   "metadata": {}
  },
  {
   "cell_type": "code",
   "execution_count": null,
   "source": [
    "import numpy as np\n",
    "x = np.arange(9)\n",
    "print(\"Array from 0 to 9:\")\n",
    "print(x)"
   ],
   "outputs": [],
   "metadata": {}
  },
  {
   "cell_type": "code",
   "execution_count": null,
   "source": [
    "import numpy as np\n",
    "bool_arr = np.ones((3,3), dtype=bool)\n",
    "print(bool_arr)"
   ],
   "outputs": [],
   "metadata": {}
  },
  {
   "cell_type": "code",
   "execution_count": null,
   "source": [
    "import numpy as np\n",
    "a = np.array ([1, 2, 3, 4, 5, 6, 7, 8, 9, 10])\n",
    "a[a %2 == 1]"
   ],
   "outputs": [],
   "metadata": {}
  },
  {
   "cell_type": "code",
   "execution_count": null,
   "source": [
    "import numpy as np\n",
    "a = np.array ([1, 2, 3, 4, 5, 6, 7, 8, 9, 10])\n",
    "a[a%2] == 1] = -1"
   ],
   "outputs": [],
   "metadata": {}
  },
  {
   "cell_type": "code",
   "execution_count": null,
   "source": [
    "import numpy as np\n",
    "a_1d_array = np.array ([1, 2, 3, 4, 5, 6, 7, 8, 9, 10])\n",
    "print(a_1d_array)\n",
    "\n",
    "reshaped_to_2d = np.reshape(a_1d_array, (-1, 2))\n",
    "print(reshaped_to_2d)"
   ],
   "outputs": [],
   "metadata": {}
  },
  {
   "cell_type": "code",
   "execution_count": null,
   "source": [
    "import numpy as np\n",
    "a = np.array ([1, 2, 3])\n",
    "b = np.array([4, 5, 6])\n",
    "c = np.vstack((a,b))\n",
    "d = np.dot(a,b)\n",
    "print(c)\n",
    "total_sum = np.sum (c)\n",
    "print(total_sum)\n"
   ],
   "outputs": [],
   "metadata": {}
  }
 ]
}