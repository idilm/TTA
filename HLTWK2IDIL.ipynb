{
 "metadata": {
  "language_info": {
   "codemirror_mode": {
    "name": "ipython",
    "version": 3
   },
   "file_extension": ".py",
   "mimetype": "text/x-python",
   "name": "python",
   "nbconvert_exporter": "python",
   "pygments_lexer": "ipython3",
   "version": "3.9.5"
  },
  "orig_nbformat": 4,
  "kernelspec": {
   "name": "python3",
   "display_name": "Python 3.9.5 64-bit"
  },
  "interpreter": {
   "hash": "aee8b7b246df8f9039afb4144a1f6fd8d2ca17a180786b69acc140d282b71a49"
  }
 },
 "nbformat": 4,
 "nbformat_minor": 2,
 "cells": [
  {
   "cell_type": "code",
   "execution_count": null,
   "metadata": {},
   "outputs": [],
   "source": [
    "Raining = input(\"Is it raining? Press Y or N:\")\n",
    "if Raining == \"N\":\n",
    "    print(\"Don't bring umbrella\")\n",
    "    exit\n",
    "if Raining == \"Y\":\n",
    "    print()\n",
    "    print(\"Find an umbrella\")\n",
    "    print()\n",
    "elif raining == \"Y\":\n",
    "    print()\n",
    "    print(\"Found an umbrella?\")\n",
    "    print()\n",
    "else: print(\"Bring umbrella\")\n",
    "    print()\n",
    "    exit"
   ]
  },
  {
   "cell_type": "code",
   "execution_count": null,
   "metadata": {},
   "outputs": [],
   "source": [
    "def cost(initial cost of motorbike, percentage loss)\n",
    "   while value > 1000\n",
    "   (percent_value * initial cost)\n",
    "   print(initial)"
   ]
  },
  {
   "cell_type": "code",
   "execution_count": null,
   "metadata": {},
   "outputs": [],
   "source": [
    "number_1 = int(input(\"Enter your first number:\"))\n",
    "number_2 = int(input(\"Enter your second number:\"))\n",
    "sum = float(num1) + float(num2)\n",
    "sum2 = float(num1) - float(num2)\n",
    "sum3 = float(num1) * float(num2)\n",
    "sum4 = float(num1) / float(num2)\n",
    "\n",
    "choice = input(\"Enter an operator, + = addition, - = subtraction, * = multiplication and / is division:\")\n",
    "\n",
    "if choice == \"+\"\n",
    "    print(num1,\"+\", num2, \"=\", add(num1, num2, sum))\n",
    "if choice == \"-\"\n",
    "   print == (num1, \"-\", num2, \"=\" subtract(num1, num2, sum2))\n",
    "if choice == \"*\"\n",
    "    print(num1, \"*\", num2, \"=\", multiply(num1, num2, sum3))\n",
    "if choice ==\"/\"\n",
    "   print(num1, \"/\", num2, \"=\", divide(num1, num2, sum4))\n",
    "break\n",
    "else:\n",
    "    print(\"Invalid Input\")\n",
    "\n"
   ]
  }
 ]
}